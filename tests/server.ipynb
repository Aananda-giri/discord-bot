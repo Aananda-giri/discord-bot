{
 "cells": [
  {
   "cell_type": "code",
   "execution_count": 9,
   "metadata": {},
   "outputs": [
    {
     "ename": "OSError",
     "evalue": "[Errno 98] Address already in use",
     "output_type": "error",
     "traceback": [
      "\u001b[0;31m---------------------------------------------------------------------------\u001b[0m",
      "\u001b[0;31mOSError\u001b[0m                                   Traceback (most recent call last)",
      "\u001b[1;32m/home/anon/aws/discord-bot/tests/server.ipynb Cell 1\u001b[0m line \u001b[0;36m3\n\u001b[1;32m     <a href='vscode-notebook-cell:/home/anon/aws/discord-bot/tests/server.ipynb#W0sZmlsZQ%3D%3D?line=26'>27</a>\u001b[0m     conn\u001b[39m.\u001b[39mclose()  \u001b[39m# close the connection\u001b[39;00m\n\u001b[1;32m     <a href='vscode-notebook-cell:/home/anon/aws/discord-bot/tests/server.ipynb#W0sZmlsZQ%3D%3D?line=29'>30</a>\u001b[0m \u001b[39mif\u001b[39;00m \u001b[39m__name__\u001b[39m \u001b[39m==\u001b[39m \u001b[39m'\u001b[39m\u001b[39m__main__\u001b[39m\u001b[39m'\u001b[39m:\n\u001b[0;32m---> <a href='vscode-notebook-cell:/home/anon/aws/discord-bot/tests/server.ipynb#W0sZmlsZQ%3D%3D?line=30'>31</a>\u001b[0m     server_program()\n",
      "\u001b[1;32m/home/anon/aws/discord-bot/tests/server.ipynb Cell 1\u001b[0m line \u001b[0;36m1\n\u001b[1;32m      <a href='vscode-notebook-cell:/home/anon/aws/discord-bot/tests/server.ipynb#W0sZmlsZQ%3D%3D?line=8'>9</a>\u001b[0m server_socket \u001b[39m=\u001b[39m socket\u001b[39m.\u001b[39msocket()  \u001b[39m# get instance\u001b[39;00m\n\u001b[1;32m     <a href='vscode-notebook-cell:/home/anon/aws/discord-bot/tests/server.ipynb#W0sZmlsZQ%3D%3D?line=9'>10</a>\u001b[0m \u001b[39m# look closely. The bind() function takes tuple as argument\u001b[39;00m\n\u001b[0;32m---> <a href='vscode-notebook-cell:/home/anon/aws/discord-bot/tests/server.ipynb#W0sZmlsZQ%3D%3D?line=10'>11</a>\u001b[0m server_socket\u001b[39m.\u001b[39;49mbind((host, port))  \u001b[39m# bind host address and port together\u001b[39;00m\n\u001b[1;32m     <a href='vscode-notebook-cell:/home/anon/aws/discord-bot/tests/server.ipynb#W0sZmlsZQ%3D%3D?line=12'>13</a>\u001b[0m \u001b[39m# configure how many client the server can listen simultaneously\u001b[39;00m\n\u001b[1;32m     <a href='vscode-notebook-cell:/home/anon/aws/discord-bot/tests/server.ipynb#W0sZmlsZQ%3D%3D?line=13'>14</a>\u001b[0m server_socket\u001b[39m.\u001b[39mlisten(\u001b[39m2\u001b[39m)\n",
      "\u001b[0;31mOSError\u001b[0m: [Errno 98] Address already in use"
     ]
    }
   ],
   "source": [
    "import socket\n",
    "\n",
    "\n",
    "def server_program():\n",
    "    # get the hostname\n",
    "    host = socket.gethostname()\n",
    "    port = 5000  # initiate port no above 1024\n",
    "\n",
    "    server_socket = socket.socket()  # get instance\n",
    "    # look closely. The bind() function takes tuple as argument\n",
    "    server_socket.bind((host, port))  # bind host address and port together\n",
    "\n",
    "    # configure how many client the server can listen simultaneously\n",
    "    server_socket.listen(2)\n",
    "    conn, address = server_socket.accept()  # accept new connection\n",
    "    print(\"Connection from: \" + str(address))\n",
    "    while True:\n",
    "        # receive data stream. it won't accept data packet greater than 1024 bytes\n",
    "        data = conn.recv(1024).decode()\n",
    "        if not data:\n",
    "            # if data is not received break\n",
    "            break\n",
    "        print(\"from connected user: \" + str(data))\n",
    "        data = input(' -> ')\n",
    "        conn.send(data.encode())  # send data to the client\n",
    "\n",
    "    conn.close()  # close the connection\n",
    "\n",
    "\n",
    "if __name__ == '__main__':\n",
    "    server_program()\n",
    "    "
   ]
  }
 ],
 "metadata": {
  "kernelspec": {
   "display_name": "machine_env",
   "language": "python",
   "name": "python3"
  },
  "language_info": {
   "codemirror_mode": {
    "name": "ipython",
    "version": 3
   },
   "file_extension": ".py",
   "mimetype": "text/x-python",
   "name": "python",
   "nbconvert_exporter": "python",
   "pygments_lexer": "ipython3",
   "version": "3.10.12"
  }
 },
 "nbformat": 4,
 "nbformat_minor": 2
}
