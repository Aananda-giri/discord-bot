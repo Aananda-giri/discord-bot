{
 "cells": [
  {
   "cell_type": "code",
   "execution_count": 3,
   "metadata": {},
   "outputs": [],
   "source": [
    "import asyncio\n",
    "# from nest_asyncio import nest_asyncio\n",
    "\n",
    "# nest_asyncio()  # enable asyncio support in Jupyter notebook\n",
    "\n",
    "import nest_asyncio\n",
    "nest_asyncio.apply()"
   ]
  },
  {
   "cell_type": "code",
   "execution_count": 4,
   "metadata": {},
   "outputs": [
    {
     "name": "stdout",
     "output_type": "stream",
     "text": [
      "the head\n",
      "https://i.redd.it/f7cqjdajb3xa1.jpg\n",
      "S*** S*** S***\n",
      "https://i.redd.it/ewme5uvio3xa1.gif\n",
      "Fun fact: this was originally from an old cartoon making fun of Peter Lorrie\n",
      "https://i.redd.it/ttg37kr855xa1.jpg\n",
      "Surely there has to be a reason right?\n",
      "https://i.redd.it/37b7eu0qw0xa1.png\n",
      "it feels like yesterday\n",
      "https://i.redd.it/56ktwzz2k2xa1.gif\n"
     ]
    }
   ],
   "source": [
    "import math, asyncpraw, asyncprawcore\n",
    "from discord.ext import commands\n",
    "from cogs.functions import get_embeded_message\n",
    "# from replit import db\n",
    "from database import db\n",
    "import config\n",
    "\n",
    "async def my_async_function():\n",
    "    reddit = asyncpraw.Reddit(\n",
    "        client_id= config.RD_CLIENT_ID,# os.environ['RD_CLIENT_ID'],\n",
    "        client_secret= config.RD_CLIENT_SECRET, # os.environ['rd_client_secret'],\n",
    "        password= config.RD_PASS,    # os.environ['rd_pass'],\n",
    "        user_agent=\"praw_test\",\n",
    "        username=\"Alternative-Ad-8849\",\n",
    "    )\n",
    "    try:\n",
    "        submissions = await reddit.subreddit('memes')\n",
    "        async for submission in submissions.hot(limit=5):\n",
    "            print(submission.title)\n",
    "            print(submission.url)\n",
    "    except Exception as e:\n",
    "        print('error', e)\n",
    "\n",
    "asyncio.run(my_async_function())"
   ]
  },
  {
   "attachments": {},
   "cell_type": "markdown",
   "metadata": {},
   "source": [
    "# Games Test\n"
   ]
  },
  {
   "cell_type": "code",
   "execution_count": null,
   "metadata": {},
   "outputs": [],
   "source": [
    "from database import db\n",
    "d = db('count')\n",
    "# print(db)\n",
    "# d.get_all()\n",
    "# d.exists('3345')\n",
    "\n",
    "# d.add_one_chain_word('122', '12', '12', '12', '12')\n",
    "# d.add_one_chain_word(channel_id = '123', current_word='111', current_author='me', current_score='123', highest_score='123')\n",
    "d.get_all()\n",
    "message = d.remove_one_chain_word('122')\n",
    "print(f'message: {message}')\n",
    "print(f'all: {d.get_all()}')\n",
    "d.exists(122)\n",
    "# d.get_all()\n",
    "# d.get_one('122')\n",
    "\n",
    "\n",
    "# vent_db = db('vent')\n",
    "# # vent_db.get_all()\n",
    "# # vent_db.get_one('123')\n",
    "# print(vent_db.table_name=='vent')\n",
    "# vent_db.get_one('123')\n",
    "# vent_db.exists('123')"
   ]
  }
 ],
 "metadata": {
  "kernelspec": {
   "display_name": "saneora_env",
   "language": "python",
   "name": "python3"
  },
  "language_info": {
   "codemirror_mode": {
    "name": "ipython",
    "version": 3
   },
   "file_extension": ".py",
   "mimetype": "text/x-python",
   "name": "python",
   "nbconvert_exporter": "python",
   "pygments_lexer": "ipython3",
   "version": "3.10.10"
  },
  "orig_nbformat": 4
 },
 "nbformat": 4,
 "nbformat_minor": 2
}
