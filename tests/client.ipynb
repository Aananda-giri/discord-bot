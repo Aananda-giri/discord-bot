{
 "cells": [
  {
   "cell_type": "code",
   "execution_count": 2,
   "metadata": {},
   "outputs": [
    {
     "ename": "KeyboardInterrupt",
     "evalue": "",
     "output_type": "error",
     "traceback": [
      "\u001b[0;31m---------------------------------------------------------------------------\u001b[0m",
      "\u001b[0;31mKeyboardInterrupt\u001b[0m                         Traceback (most recent call last)",
      "\u001b[1;32m/home/anon/aws/discord-bot/tests/client.ipynb Cell 1\u001b[0m line \u001b[0;36m2\n\u001b[1;32m     <a href='vscode-notebook-cell:/home/anon/aws/discord-bot/tests/client.ipynb#W0sZmlsZQ%3D%3D?line=20'>21</a>\u001b[0m     client_socket\u001b[39m.\u001b[39mclose()  \u001b[39m# close the connection\u001b[39;00m\n\u001b[1;32m     <a href='vscode-notebook-cell:/home/anon/aws/discord-bot/tests/client.ipynb#W0sZmlsZQ%3D%3D?line=23'>24</a>\u001b[0m \u001b[39mif\u001b[39;00m \u001b[39m__name__\u001b[39m \u001b[39m==\u001b[39m \u001b[39m'\u001b[39m\u001b[39m__main__\u001b[39m\u001b[39m'\u001b[39m:\n\u001b[0;32m---> <a href='vscode-notebook-cell:/home/anon/aws/discord-bot/tests/client.ipynb#W0sZmlsZQ%3D%3D?line=24'>25</a>\u001b[0m     client_program()\n",
      "\u001b[1;32m/home/anon/aws/discord-bot/tests/client.ipynb Cell 1\u001b[0m line \u001b[0;36m1\n\u001b[1;32m     <a href='vscode-notebook-cell:/home/anon/aws/discord-bot/tests/client.ipynb#W0sZmlsZQ%3D%3D?line=12'>13</a>\u001b[0m \u001b[39mwhile\u001b[39;00m message\u001b[39m.\u001b[39mlower()\u001b[39m.\u001b[39mstrip() \u001b[39m!=\u001b[39m \u001b[39m'\u001b[39m\u001b[39mbye\u001b[39m\u001b[39m'\u001b[39m:\n\u001b[1;32m     <a href='vscode-notebook-cell:/home/anon/aws/discord-bot/tests/client.ipynb#W0sZmlsZQ%3D%3D?line=13'>14</a>\u001b[0m     client_socket\u001b[39m.\u001b[39msend(message\u001b[39m.\u001b[39mencode())  \u001b[39m# send message\u001b[39;00m\n\u001b[0;32m---> <a href='vscode-notebook-cell:/home/anon/aws/discord-bot/tests/client.ipynb#W0sZmlsZQ%3D%3D?line=14'>15</a>\u001b[0m     data \u001b[39m=\u001b[39m client_socket\u001b[39m.\u001b[39;49mrecv(\u001b[39m1024\u001b[39;49m)\u001b[39m.\u001b[39mdecode()  \u001b[39m# receive response\u001b[39;00m\n\u001b[1;32m     <a href='vscode-notebook-cell:/home/anon/aws/discord-bot/tests/client.ipynb#W0sZmlsZQ%3D%3D?line=16'>17</a>\u001b[0m     \u001b[39mprint\u001b[39m(\u001b[39m'\u001b[39m\u001b[39mReceived from server: \u001b[39m\u001b[39m'\u001b[39m \u001b[39m+\u001b[39m data)  \u001b[39m# show in terminal\u001b[39;00m\n\u001b[1;32m     <a href='vscode-notebook-cell:/home/anon/aws/discord-bot/tests/client.ipynb#W0sZmlsZQ%3D%3D?line=18'>19</a>\u001b[0m     message \u001b[39m=\u001b[39m \u001b[39minput\u001b[39m(\u001b[39m\"\u001b[39m\u001b[39m -> \u001b[39m\u001b[39m\"\u001b[39m)  \u001b[39m# again take input\u001b[39;00m\n",
      "\u001b[0;31mKeyboardInterrupt\u001b[0m: "
     ]
    }
   ],
   "source": [
    "import socket\n",
    "\n",
    "\n",
    "def client_program():\n",
    "    host = socket.gethostname()  # as both code is running on same pc\n",
    "    port = 5001  # socket server port number\n",
    "\n",
    "    client_socket = socket.socket()  # instantiate\n",
    "    client_socket.connect((host, port))  # connect to the server\n",
    "\n",
    "    message = input(\" -> \")  # take input\n",
    "\n",
    "    while message.lower().strip() != 'bye':\n",
    "        client_socket.send(message.encode())  # send message\n",
    "        data = client_socket.recv(1024).decode()  # receive response\n",
    "\n",
    "        print('Received from server: ' + data)  # show in terminal\n",
    "\n",
    "        message = input(\" -> \")  # again take input\n",
    "\n",
    "    client_socket.close()  # close the connection\n",
    "\n",
    "\n",
    "if __name__ == '__main__':\n",
    "    client_program()"
   ]
  }
 ],
 "metadata": {
  "kernelspec": {
   "display_name": "machine_env",
   "language": "python",
   "name": "python3"
  },
  "language_info": {
   "codemirror_mode": {
    "name": "ipython",
    "version": 3
   },
   "file_extension": ".py",
   "mimetype": "text/x-python",
   "name": "python",
   "nbconvert_exporter": "python",
   "pygments_lexer": "ipython3",
   "version": "3.10.12"
  }
 },
 "nbformat": 4,
 "nbformat_minor": 2
}
