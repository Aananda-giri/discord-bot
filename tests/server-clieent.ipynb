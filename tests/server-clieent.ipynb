{
 "cells": [
  {
   "cell_type": "markdown",
   "metadata": {},
   "source": [
    "# Server Scripts"
   ]
  },
  {
   "cell_type": "code",
   "execution_count": null,
   "metadata": {},
   "outputs": [],
   "source": [
    "import socket\n",
    "import pickle\n",
    "\n",
    "def custom_computation(task):\n",
    "    # Implement your custom computation logic here\n",
    "    result = task + 10\n",
    "    return result\n",
    "\n",
    "def main():\n",
    "    host = \"127.0.0.1\"  # Replace with the IP address of the server machine\n",
    "    port = 12345\n",
    "\n",
    "    server_socket = socket.socket(socket.AF_INET, socket.SOCK_STREAM)\n",
    "    server_socket.bind((host, port))\n",
    "    server_socket.listen(1)\n",
    "\n",
    "    print(f\"Server listening on {host}:{port}\")\n",
    "\n",
    "    client_socket, addr = server_socket.accept()\n",
    "    print(f\"Connection from {addr}\")\n",
    "\n",
    "    while True:\n",
    "        data = client_socket.recv(1024)\n",
    "        if not data:\n",
    "            break\n",
    "\n",
    "        # Deserialize the received data\n",
    "        task = pickle.loads(data)\n",
    "\n",
    "        # Perform custom computation\n",
    "        result = custom_computation(task)\n",
    "\n",
    "        # Send the result back to the client\n",
    "        client_socket.sendall(pickle.dumps(result))\n",
    "\n",
    "    client_socket.close()\n",
    "    server_socket.close()\n",
    "\n",
    "if __name__ == \"__main__\":\n",
    "    main()"
   ]
  },
  {
   "cell_type": "markdown",
   "metadata": {},
   "source": [
    "# Client scripts"
   ]
  },
  {
   "cell_type": "code",
   "execution_count": null,
   "metadata": {},
   "outputs": [],
   "source": [
    "import socket\n",
    "import pickle\n",
    "\n",
    "def main():\n",
    "    host = \"127.0.0.1\"  # Replace with the IP address of the server machine\n",
    "    port = 12345\n",
    "\n",
    "    client_socket = socket.socket(socket.AF_INET, socket.SOCK_STREAM)\n",
    "    client_socket.connect((host, port))\n",
    "\n",
    "    # Example custom computational task\n",
    "    task_to_send = 5\n",
    "\n",
    "    # Serialize and send the task to the server\n",
    "    client_socket.sendall(pickle.dumps(task_to_send))\n",
    "\n",
    "    # Receive the result from the server\n",
    "    data = client_socket.recv(1024)\n",
    "    result = pickle.loads(data)\n",
    "\n",
    "    print(f\"Result received from server: {result}\")\n",
    "\n",
    "    client_socket.close()\n",
    "\n",
    "if __name__ == \"__main__\":\n",
    "    main()\n"
   ]
  },
  {
   "cell_type": "code",
   "execution_count": 2,
   "metadata": {},
   "outputs": [
    {
     "ename": "KeyboardInterrupt",
     "evalue": "",
     "output_type": "error",
     "traceback": [
      "\u001b[0;31m---------------------------------------------------------------------------\u001b[0m",
      "\u001b[0;31mKeyboardInterrupt\u001b[0m                         Traceback (most recent call last)",
      "\u001b[1;32m/home/anon/aws/discord-bot/tests/server-clieent.ipynb Cell 5\u001b[0m line \u001b[0;36m3\n\u001b[1;32m     <a href='vscode-notebook-cell:/home/anon/aws/discord-bot/tests/server-clieent.ipynb#X10sZmlsZQ%3D%3D?line=26'>27</a>\u001b[0m     conn\u001b[39m.\u001b[39mclose()  \u001b[39m# close the connection\u001b[39;00m\n\u001b[1;32m     <a href='vscode-notebook-cell:/home/anon/aws/discord-bot/tests/server-clieent.ipynb#X10sZmlsZQ%3D%3D?line=29'>30</a>\u001b[0m \u001b[39mif\u001b[39;00m \u001b[39m__name__\u001b[39m \u001b[39m==\u001b[39m \u001b[39m'\u001b[39m\u001b[39m__main__\u001b[39m\u001b[39m'\u001b[39m:\n\u001b[0;32m---> <a href='vscode-notebook-cell:/home/anon/aws/discord-bot/tests/server-clieent.ipynb#X10sZmlsZQ%3D%3D?line=30'>31</a>\u001b[0m     server_program()\n",
      "\u001b[1;32m/home/anon/aws/discord-bot/tests/server-clieent.ipynb Cell 5\u001b[0m line \u001b[0;36m1\n\u001b[1;32m     <a href='vscode-notebook-cell:/home/anon/aws/discord-bot/tests/server-clieent.ipynb#X10sZmlsZQ%3D%3D?line=12'>13</a>\u001b[0m \u001b[39m# configure how many client the server can listen simultaneously\u001b[39;00m\n\u001b[1;32m     <a href='vscode-notebook-cell:/home/anon/aws/discord-bot/tests/server-clieent.ipynb#X10sZmlsZQ%3D%3D?line=13'>14</a>\u001b[0m server_socket\u001b[39m.\u001b[39mlisten(\u001b[39m2\u001b[39m)\n\u001b[0;32m---> <a href='vscode-notebook-cell:/home/anon/aws/discord-bot/tests/server-clieent.ipynb#X10sZmlsZQ%3D%3D?line=14'>15</a>\u001b[0m conn, address \u001b[39m=\u001b[39m server_socket\u001b[39m.\u001b[39;49maccept()  \u001b[39m# accept new connection\u001b[39;00m\n\u001b[1;32m     <a href='vscode-notebook-cell:/home/anon/aws/discord-bot/tests/server-clieent.ipynb#X10sZmlsZQ%3D%3D?line=15'>16</a>\u001b[0m \u001b[39mprint\u001b[39m(\u001b[39m\"\u001b[39m\u001b[39mConnection from: \u001b[39m\u001b[39m\"\u001b[39m \u001b[39m+\u001b[39m \u001b[39mstr\u001b[39m(address))\n\u001b[1;32m     <a href='vscode-notebook-cell:/home/anon/aws/discord-bot/tests/server-clieent.ipynb#X10sZmlsZQ%3D%3D?line=16'>17</a>\u001b[0m \u001b[39mwhile\u001b[39;00m \u001b[39mTrue\u001b[39;00m:\n\u001b[1;32m     <a href='vscode-notebook-cell:/home/anon/aws/discord-bot/tests/server-clieent.ipynb#X10sZmlsZQ%3D%3D?line=17'>18</a>\u001b[0m     \u001b[39m# receive data stream. it won't accept data packet greater than 1024 bytes\u001b[39;00m\n",
      "File \u001b[0;32m~/mambaforge/envs/machine_env/lib/python3.10/socket.py:293\u001b[0m, in \u001b[0;36msocket.accept\u001b[0;34m(self)\u001b[0m\n\u001b[1;32m    286\u001b[0m \u001b[39mdef\u001b[39;00m \u001b[39maccept\u001b[39m(\u001b[39mself\u001b[39m):\n\u001b[1;32m    287\u001b[0m \u001b[39m    \u001b[39m\u001b[39m\"\"\"accept() -> (socket object, address info)\u001b[39;00m\n\u001b[1;32m    288\u001b[0m \n\u001b[1;32m    289\u001b[0m \u001b[39m    Wait for an incoming connection.  Return a new socket\u001b[39;00m\n\u001b[1;32m    290\u001b[0m \u001b[39m    representing the connection, and the address of the client.\u001b[39;00m\n\u001b[1;32m    291\u001b[0m \u001b[39m    For IP sockets, the address info is a pair (hostaddr, port).\u001b[39;00m\n\u001b[1;32m    292\u001b[0m \u001b[39m    \"\"\"\u001b[39;00m\n\u001b[0;32m--> 293\u001b[0m     fd, addr \u001b[39m=\u001b[39m \u001b[39mself\u001b[39;49m\u001b[39m.\u001b[39;49m_accept()\n\u001b[1;32m    294\u001b[0m     sock \u001b[39m=\u001b[39m socket(\u001b[39mself\u001b[39m\u001b[39m.\u001b[39mfamily, \u001b[39mself\u001b[39m\u001b[39m.\u001b[39mtype, \u001b[39mself\u001b[39m\u001b[39m.\u001b[39mproto, fileno\u001b[39m=\u001b[39mfd)\n\u001b[1;32m    295\u001b[0m     \u001b[39m# Issue #7995: if no default timeout is set and the listening\u001b[39;00m\n\u001b[1;32m    296\u001b[0m     \u001b[39m# socket had a (non-zero) timeout, force the new socket in blocking\u001b[39;00m\n\u001b[1;32m    297\u001b[0m     \u001b[39m# mode to override platform-specific socket flags inheritance.\u001b[39;00m\n",
      "\u001b[0;31mKeyboardInterrupt\u001b[0m: "
     ]
    }
   ],
   "source": []
  },
  {
   "cell_type": "code",
   "execution_count": null,
   "metadata": {},
   "outputs": [
    {
     "ename": "ConnectionRefusedError",
     "evalue": "[Errno 111] Connection refused",
     "output_type": "error",
     "traceback": [
      "\u001b[0;31m---------------------------------------------------------------------------\u001b[0m",
      "\u001b[0;31mConnectionRefusedError\u001b[0m                    Traceback (most recent call last)",
      "\u001b[1;32m/home/anon/aws/discord-bot/tests/server-clieent.ipynb Cell 6\u001b[0m line \u001b[0;36m2\n\u001b[1;32m     <a href='vscode-notebook-cell:/home/anon/aws/discord-bot/tests/server-clieent.ipynb#X11sZmlsZQ%3D%3D?line=20'>21</a>\u001b[0m     client_socket\u001b[39m.\u001b[39mclose()  \u001b[39m# close the connection\u001b[39;00m\n\u001b[1;32m     <a href='vscode-notebook-cell:/home/anon/aws/discord-bot/tests/server-clieent.ipynb#X11sZmlsZQ%3D%3D?line=23'>24</a>\u001b[0m \u001b[39mif\u001b[39;00m \u001b[39m__name__\u001b[39m \u001b[39m==\u001b[39m \u001b[39m'\u001b[39m\u001b[39m__main__\u001b[39m\u001b[39m'\u001b[39m:\n\u001b[0;32m---> <a href='vscode-notebook-cell:/home/anon/aws/discord-bot/tests/server-clieent.ipynb#X11sZmlsZQ%3D%3D?line=24'>25</a>\u001b[0m     client_program()\n",
      "\u001b[1;32m/home/anon/aws/discord-bot/tests/server-clieent.ipynb Cell 6\u001b[0m line \u001b[0;36m9\n\u001b[1;32m      <a href='vscode-notebook-cell:/home/anon/aws/discord-bot/tests/server-clieent.ipynb#X11sZmlsZQ%3D%3D?line=5'>6</a>\u001b[0m port \u001b[39m=\u001b[39m \u001b[39m5000\u001b[39m  \u001b[39m# socket server port number\u001b[39;00m\n\u001b[1;32m      <a href='vscode-notebook-cell:/home/anon/aws/discord-bot/tests/server-clieent.ipynb#X11sZmlsZQ%3D%3D?line=7'>8</a>\u001b[0m client_socket \u001b[39m=\u001b[39m socket\u001b[39m.\u001b[39msocket()  \u001b[39m# instantiate\u001b[39;00m\n\u001b[0;32m----> <a href='vscode-notebook-cell:/home/anon/aws/discord-bot/tests/server-clieent.ipynb#X11sZmlsZQ%3D%3D?line=8'>9</a>\u001b[0m client_socket\u001b[39m.\u001b[39;49mconnect((host, port))  \u001b[39m# connect to the server\u001b[39;00m\n\u001b[1;32m     <a href='vscode-notebook-cell:/home/anon/aws/discord-bot/tests/server-clieent.ipynb#X11sZmlsZQ%3D%3D?line=10'>11</a>\u001b[0m message \u001b[39m=\u001b[39m \u001b[39minput\u001b[39m(\u001b[39m\"\u001b[39m\u001b[39m -> \u001b[39m\u001b[39m\"\u001b[39m)  \u001b[39m# take input\u001b[39;00m\n\u001b[1;32m     <a href='vscode-notebook-cell:/home/anon/aws/discord-bot/tests/server-clieent.ipynb#X11sZmlsZQ%3D%3D?line=12'>13</a>\u001b[0m \u001b[39mwhile\u001b[39;00m message\u001b[39m.\u001b[39mlower()\u001b[39m.\u001b[39mstrip() \u001b[39m!=\u001b[39m \u001b[39m'\u001b[39m\u001b[39mbye\u001b[39m\u001b[39m'\u001b[39m:\n",
      "\u001b[0;31mConnectionRefusedError\u001b[0m: [Errno 111] Connection refused"
     ]
    }
   ],
   "source": []
  }
 ],
 "metadata": {
  "kernelspec": {
   "display_name": "machine_env",
   "language": "python",
   "name": "python3"
  },
  "language_info": {
   "codemirror_mode": {
    "name": "ipython",
    "version": 3
   },
   "file_extension": ".py",
   "mimetype": "text/x-python",
   "name": "python",
   "nbconvert_exporter": "python",
   "pygments_lexer": "ipython3",
   "version": "3.10.12"
  }
 },
 "nbformat": 4,
 "nbformat_minor": 2
}
